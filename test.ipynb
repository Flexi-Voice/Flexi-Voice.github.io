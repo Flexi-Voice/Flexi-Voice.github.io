{
 "cells": [
  {
   "cell_type": "code",
   "execution_count": 5,
   "id": "fe03ca5d",
   "metadata": {},
   "outputs": [],
   "source": [
    "import soundfile as sf\n",
    "import numpy as np\n",
    "import os\n",
    "from pathlib import Path\n",
    "\n",
    "def normalize_audio(audio_path, target_rms=0.1):\n",
    "    audio, sr = sf.read(audio_path)\n",
    "    rms = np.sqrt(np.mean(audio**2))\n",
    "    scaling_factor = target_rms / (rms + 1e-6)\n",
    "    audio_normalized = audio * scaling_factor\n",
    "    return audio_normalized, sr\n",
    "\n",
    "def process_directory(src_dir=\"data\", dst_dir=\"data_new\"):\n",
    "    # Create destination directory with same structure\n",
    "    src_path = Path(src_dir)\n",
    "    dst_path = Path(dst_dir)\n",
    "    \n",
    "    # Walk through all files and directories\n",
    "    for root, dirs, files in os.walk(src_path):\n",
    "        # Create corresponding directory in dst_dir\n",
    "        rel_path = Path(root).relative_to(src_path)\n",
    "        dst_root = dst_path / rel_path\n",
    "        dst_root.mkdir(parents=True, exist_ok=True)\n",
    "        \n",
    "        # Process audio files\n",
    "        for file in files:\n",
    "            if file.endswith(('.wav', '.mp3', '.flac')):\n",
    "                src_file = Path(root) / file\n",
    "                dst_file = dst_root / file\n",
    "                \n",
    "                # Normalize and save audio\n",
    "                try:\n",
    "                    audio_normalized, sr = normalize_audio(str(src_file))\n",
    "                    sf.write(str(dst_file), audio_normalized, sr)\n",
    "                except Exception as e:\n",
    "                    print(f\"Error processing {src_file}: {e}\")\n",
    "\n",
    "# Run the processing\n",
    "process_directory()\n"
   ]
  }
 ],
 "metadata": {
  "kernelspec": {
   "display_name": "Python 3",
   "language": "python",
   "name": "python3"
  },
  "language_info": {
   "codemirror_mode": {
    "name": "ipython",
    "version": 3
   },
   "file_extension": ".py",
   "mimetype": "text/x-python",
   "name": "python",
   "nbconvert_exporter": "python",
   "pygments_lexer": "ipython3",
   "version": "3.10.11"
  }
 },
 "nbformat": 4,
 "nbformat_minor": 5
}
